{
 "cells": [
  {
   "cell_type": "markdown",
   "id": "final-comparison",
   "metadata": {},
   "source": [
    "<img src=\"img/viu_logo.png\" width=\"200\"><img src=\"img/python_logo.png\" width=\"250\"> *Mario Cervera*"
   ]
  },
  {
   "cell_type": "markdown",
   "id": "differential-valley",
   "metadata": {},
   "source": [
    "# Introducción a la Programación - Actividad Final"
   ]
  },
  {
   "cell_type": "markdown",
   "id": "handled-spanking",
   "metadata": {
    "tags": []
   },
   "source": [
    "El fichero *grafo.txt* define un grafo dirigido ponderado. Cada fila del fichero contiene tres items separados entre sí por un espacio. Estos tres items definen una arista y su peso. Por ejemplo, la fila \"a b 2\" define una arista *(a, b)*, cuyo peso es 2, y donde *a* y *b* son nodos del grafo. La arista tiene *a* como origen y *b* como destino."
   ]
  },
  {
   "cell_type": "markdown",
   "id": "sufficient-female",
   "metadata": {},
   "source": [
    "1.1. Crea una clase *Arista* que represente una arista del grafo, con su nodo origen, su nodo destino y su peso. La clase debe sobreescribir el operador que permite que las instancias de la clase puedan representarse apropiadamente en formato *string*. Añade documentación a la clase."
   ]
  },
  {
   "cell_type": "code",
   "execution_count": 43,
   "id": "8207cbb4-a94a-49f7-aead-d96a4411d861",
   "metadata": {},
   "outputs": [],
   "source": [
    "# 1.1\n",
    "\n",
    "class Arista:\n",
    "    \"\"\"\n",
    "    Clase para representar las aristas de un grafo con sus caracteristicas (nodo de origen, nodo de destino y peso)\n",
    "\n",
    "    Atributos\n",
    "    ----------\n",
    "    origen : str\n",
    "        el nodo de origen de la arista\n",
    "    destino : str\n",
    "        el nodo de destino de la arista\n",
    "    peso : int\n",
    "        el peso de la arista. Se hace casting a int por si el numero se recibe en formato string.\n",
    "\n",
    "    Metodos\n",
    "    -------\n",
    "    __str__:\n",
    "        Imprime de manera formateada los atributos de la arista\n",
    "    \"\"\"\n",
    "    \n",
    "    def __init__(self, origen, destino, peso):\n",
    "        self.origen = origen\n",
    "        self.destino = destino\n",
    "        self.peso = int(peso)\n",
    "        \n",
    "    def __str__(self):\n",
    "        return f'({self.origen}, {self.destino}, {self.peso})'"
   ]
  },
  {
   "cell_type": "markdown",
   "id": "clear-infection",
   "metadata": {},
   "source": [
    "1.2. Crea una clase abstracta *Grafo* que represente un grafo, pero sin proporcionar detalles sobre su representación en memoria. Esta clase abstracta contendrá un constructor que recibirá un parámetro: la ruta a un fichero de texto, de donde la clase *Grafo* podrá extraer la definición del grafo. La clase, al ser abstracta, no puede crear el grafo, pero sí puede procesar el fichero y usar un método abstracto *anyadir_arista*. Añadir también a la clase *Grafo* otro método abstracto *contiene_arista* que permita comprobar la presencia de una arista en el grafo. Ambos métodos recibirán una *Arista* como parámetro. Añade documentación a la clase."
   ]
  },
  {
   "cell_type": "code",
   "execution_count": 39,
   "id": "8708f575-0a7d-4f19-b6c2-c67cd454cfaa",
   "metadata": {},
   "outputs": [],
   "source": [
    "# 1.2\n",
    "\n",
    "from abc import ABC\n",
    "from abc import abstractmethod\n",
    "\n",
    "class Grafo(ABC):\n",
    "    \"\"\"\n",
    "    Clase abstracta para construir grafos.\n",
    "\n",
    "    Recibe como parametro la direccion del fichero donde se encuentra la informacion de las aristas. \n",
    "    El fichero debe contener una arista por linea. El origen, destino y peso deben estar en ese orden y\n",
    "    separados por un espacio cada uno. Ej: \"a b 2\". Al instanciar un objeto se procesara el fichero recibido.\n",
    "\n",
    "    Atributos\n",
    "    ----------\n",
    "    direccion_fichero : str\n",
    "        ubicacion del fichero de donde se extraera la informacion de las aristas\n",
    "   \n",
    "    Metodos\n",
    "    -------\n",
    "    procesar_fichero:\n",
    "        metodo para leer linea a linea la informacion del fichero, instanciar un objeto de clase Arista por cada linea y \n",
    "        añadirlo al grafo creado. \n",
    "\n",
    "    anyadir_arista:\n",
    "        metodo abstracto para añadir aristas al grafo. Verifica que el parametro sea de clase Arista.\n",
    "\n",
    "    contiene_arista:\n",
    "        metodo abstracto para verificar si un objeto de clase Arista se encuentra dentro del grafo creado. \n",
    "        Verifica que el parametro sea de clase Arista.\n",
    "    \n",
    "    \"\"\"\n",
    "    def __init__(self, direccion_fichero):\n",
    "        self.procesar_fichero(open(direccion_fichero))\n",
    "        \n",
    "    def procesar_fichero(self, direccion_fichero):   \n",
    "        \"\"\"metodo para leer linea a linea la informacion del fichero, instanciar un objeto de clase Arista por cada linea y \n",
    "        añadirlo al grafo creado.\"\"\" \n",
    "        with direccion_fichero as fichero:\n",
    "            lineas = fichero.readlines()\n",
    "            for linea in lineas: \n",
    "                parte_de_arista = linea.split()\n",
    "                arista = Arista(parte_de_arista[0], parte_de_arista[1], parte_de_arista[2])\n",
    "                self.anyadir_arista(arista)\n",
    "                \n",
    "    @abstractmethod\n",
    "    def anyadir_arista(self, arista):\n",
    "        \"\"\"metodo abstracto para añadir aristas al grafo. Verifica que el parametro sea de clase Arista.\"\"\"\n",
    "        assert type(arista) == Arista, \"El objeto que desea anyadir no es de tipo arista\"\n",
    "        pass\n",
    "    \n",
    "    @abstractmethod\n",
    "    def contiene_arista(self, arista):\n",
    "        \"\"\"metodo abstracto para verificar si un objeto de clase Arista se encuentra dentro del grafo creado. Verifica que el parametro sea de clase Arista.\"\"\"\n",
    "        assert type(arista) == Arista, \"El objeto que desea buscar en el grafo no es de tipo arista\"\n",
    "        pass"
   ]
  },
  {
   "cell_type": "markdown",
   "id": "native-width",
   "metadata": {
    "tags": []
   },
   "source": [
    "1.3. Crea una subclase *GrafoListasAdyacencia*. Esta clase implementará el método *anyadir_arista* de manera que se creen las listas de adyacencia de manera apropiada. La clase deberá también implementar el método *contiene_arista*. Añade documentación a la clase.\n",
    "\n",
    "Nota: observad que en las listas de adyacencia no debéis almacenar objetos de tipo *Arista*, ya que esto crearía duplicación innecesaria de información en memoria."
   ]
  },
  {
   "cell_type": "code",
   "execution_count": 40,
   "id": "859b6ac1-9f7b-4565-aa21-372222a2eaef",
   "metadata": {},
   "outputs": [
    {
     "name": "stdout",
     "output_type": "stream",
     "text": [
      "{'a': [('c', 3), ('b', 1)], 'b': [('e', 3)], 'c': [('d', 1), ('a', 2)], 'd': [('f', 1), ('e', 2), ('a', 1)], 'e': [('f', 4), ('c', 3)], 'f': [('g', 1)], 'g': [('b', 2)]}\n"
     ]
    }
   ],
   "source": [
    "# 1.3\n",
    "\n",
    "class GrafoListasAdyacencia(Grafo):\n",
    "    \"\"\"\n",
    "    Clase hija de Grafo para construir un grafo representado con lista de adyacencia.\n",
    "\n",
    "    Hereda los atributos y metodos de la clase Grafo. Modifica los metodos abstractos para poder crear la lista de adyacencia.\n",
    "\n",
    "    Atributos\n",
    "    ----------\n",
    "    grafo : dict\n",
    "        representa grafo de forma de lista de adyacencia\n",
    "   \n",
    "    Metodos\n",
    "    -------\n",
    "\n",
    "    anyadir_arista:\n",
    "        metodo heredado de clase Grago. Anyade aristas al atributo \"grafo\". Convierte el peso de la arista a un numero entero.\n",
    "        Recibe como parametro objetos de clase Arista.\n",
    "\n",
    "    contiene_arista:\n",
    "        metodo heredado de la clase Grafo. Verifica si una arista existe en el grafo. Recibe como parametro objetos de clase Arista.\n",
    "    \n",
    "    \"\"\"\n",
    "    grafo = {}\n",
    "\n",
    "    def __init__(self, direccion_fichero):\n",
    "        super().__init__(direccion_fichero)\n",
    "        \n",
    "        \n",
    "    def anyadir_arista(self, arista):\n",
    "        \"\"\"\n",
    "        metodo heredado de clase Grago. Anyade aristas al atributo \"grafo\". Recibe como parametro objetos de clase Arista.\n",
    "        \"\"\"\n",
    "        super().anyadir_arista(arista)\n",
    "        if arista.origen in self.grafo:\n",
    "            self.grafo[arista.origen].insert(0, (arista.destino, arista.peso))\n",
    "        else:\n",
    "            self.grafo[arista.origen] = [(arista.destino, arista.peso)]\n",
    "                \n",
    "    def contiene_arista(self, arista):\n",
    "        \"\"\"\n",
    "        metodo heredado de la clase Grafo. Verifica si una arista existe en el grafo. Recibe como parametro objetos de clase Arista.\n",
    "        \"\"\"\n",
    "        if arista.origen in self.grafo:\n",
    "            for destino_y_peso in self.grafo[arista.origen]:\n",
    "                if destino_y_peso == (arista.destino, int(arista.peso)):\n",
    "                    return True\n",
    "        return\n",
    "\n",
    "grafo_lista = GrafoListasAdyacencia(\"res/grafo.txt\")\n",
    "\n",
    "print(grafo_lista.grafo)\n"
   ]
  },
  {
   "cell_type": "markdown",
   "id": "arabic-casino",
   "metadata": {},
   "source": [
    "1.4. Crea una subclase *GrafoMatrizAdyacencia*. Esta clase implementará el método *anyadir_arista* de manera que se cree la matriz de adyacencia de manera apropiada. Una matriz de adyacencia es una matriz cuadrada que indica, para cada par de nodos, si son adyacentes o no. Más formalmente, dado un grafo con nodos *U = { u<sub>1</sub>, u<sub>2</sub>, ..., u<sub>n</sub> }*, la matriz de adyacencia es una matriz *n x n* donde un elemento *A<sub>ij</sub>* de la matriz es *X* cuando el grafo posee una arista del nodo *u<sub>i</sub>* al nodo *u<sub>j</sub>* con peso *X*, y 0 cuando no existe tal arista o tiene peso 0.\n",
    "\n",
    "Nota: para este ejercicio, podéis asumir que se sabe de antemano (es decir, antes de procesar el fichero) que el grafo tiene 7 nodos: 'a', 'b', 'c', 'd', 'e', 'f' y 'g'."
   ]
  },
  {
   "cell_type": "code",
   "execution_count": 41,
   "id": "96dc785b-38a0-4a08-afe8-3a27f220ff02",
   "metadata": {},
   "outputs": [
    {
     "name": "stdout",
     "output_type": "stream",
     "text": [
      "{'a': [0, 1, 3, 0, 0, 0, 0], 'b': [0, 0, 0, 0, 3, 0, 0], 'c': [2, 0, 0, 1, 0, 0, 0], 'd': [1, 0, 0, 0, 2, 1, 0], 'e': [0, 0, 3, 0, 0, 4, 0], 'f': [0, 0, 0, 0, 0, 0, 1], 'g': [0, 2, 0, 0, 0, 0, 0]}\n"
     ]
    }
   ],
   "source": [
    "#1.4\n",
    "\n",
    "class GrafoMatrizAdyacencia(Grafo):\n",
    "    \"\"\"\n",
    "    Clase hija de Grafo para construir un grafo representado con matriz de adyacencia.\n",
    "\n",
    "    Hereda los atributos y metodos de la clase Grafo. Modifica los metodos abstractos para poder crear la matriz de adyacencia.\n",
    "\n",
    "    Atributos\n",
    "    ----------\n",
    "    grafo : dict\n",
    "        representa grafo de forma de lista de adyacencia\n",
    "   \n",
    "    Metodos\n",
    "    -------\n",
    "\n",
    "    anyadir_arista:\n",
    "        metodo heredado de la clase Grago. Anyade aristas al atributo \"grafo\". Recibe como parametro objetos de clase Arista.\n",
    "\n",
    "    contiene_arista:\n",
    "        metodo heredado de la clase Grafo. Verifica si una arista existe en el grafo. Recibe como parametro objetos de clase Arista.\n",
    "    \n",
    "    \"\"\"\n",
    "\n",
    "    grafo = {}\n",
    "\n",
    "    def __init__(self, direccion_fichero):\n",
    "        super().__init__(direccion_fichero)\n",
    "        \n",
    "    def anyadir_arista(self, arista):\n",
    "        \"\"\"\n",
    "        metodo heredado de la clase Grago. Anyade aristas al atributo \"grafo\". Recibe como parametro objetos de clase Arista.\n",
    "        \"\"\"\n",
    "        super().anyadir_arista(arista)\n",
    "        posicion_destino = ord(arista.destino) - 97                      \n",
    "        if arista.origen not in self.grafo:\n",
    "            self.grafo[arista.origen] = [0 for pocision in range(7)]\n",
    "        self.grafo[arista.origen][posicion_destino] = int(arista.peso)\n",
    "    \n",
    "    def contiene_arista(self, arista):\n",
    "        \"\"\"\n",
    "        metodo heredado de la clase Grafo. Verifica si una arista existe en el grafo. Recibe como parametro objetos de clase Arista.\n",
    "        \"\"\"\n",
    "        super().contiene_arista(arista)\n",
    "        posicion_destino = ord(arista.destino) - 97\n",
    "        if arista.origen in self.grafo and self.grafo[arista.origen][posicion_destino] == int(arista.peso):\n",
    "            return True \n",
    "        return False\n",
    "            \n",
    "grafo_matriz= GrafoMatrizAdyacencia(\"res/grafo.txt\")\n",
    "\n",
    "print(grafo_matriz.grafo)"
   ]
  },
  {
   "cell_type": "markdown",
   "id": "strange-blink",
   "metadata": {},
   "source": [
    "1.5. Crea una función que, dado un grafo y una arista, compruebe si la arista existe en el grafo y muestre un mensaje apropiado por pantalla en cualquier caso. Utiliza esta función para comprobar la existencia/ausencia de varias aristas en una instancia de un grafo basado en listas de adyacencia y también en un grafo basado en matriz de adyacencia. El resultado debería ser el mismo en ambos casos, ya que la existencia o ausencia de una arista en un grafo no depende de cómo el grafo está representado internamente."
   ]
  },
  {
   "cell_type": "code",
   "execution_count": 42,
   "id": "19f0d990-2442-49cd-8ab3-a6b71dd44001",
   "metadata": {},
   "outputs": [
    {
     "name": "stdout",
     "output_type": "stream",
     "text": [
      "La arista (a, b, 1) existe dentro del grafo\n",
      "La arista (c, d, 1) existe dentro del grafo\n",
      "La arista (h, c, 4) no existe dentro del grafo\n",
      "La arista (f, g, 6) no existe dentro del grafo\n",
      "La arista (a, b, 1) existe dentro del grafo\n",
      "La arista (c, d, 1) existe dentro del grafo\n",
      "La arista (h, c, 4) no existe dentro del grafo\n",
      "La arista (f, g, 6) no existe dentro del grafo\n"
     ]
    }
   ],
   "source": [
    "#1.5 \n",
    "\n",
    "def comprobar_arista_en_grafo(grafo, arista):\n",
    "    assert type(arista) == Arista, \"El segundo parametro de la funcion no es una arista\"\n",
    "    assert(type(grafo) is GrafoMatrizAdyacencia or type(grafo) is GrafoListasAdyacencia), \"El primer parametro de la funcion no es un grafo\"\n",
    "    if grafo.contiene_arista(arista) == True:\n",
    "        print(f\"La arista {arista} existe dentro del grafo\")\n",
    "    else:\n",
    "        print(f\"La arista {arista} no existe dentro del grafo\")\n",
    "    \n",
    "    \n",
    "arista1 = Arista('a', 'b', '1')\n",
    "arista2 = Arista('c', 'd', '1')\n",
    "arista3 = Arista('h', 'c', '4')\n",
    "arista4 = Arista('f', 'g', '6')\n",
    "\n",
    "#comprobar_arista_en_grafo('a', arista1)\n",
    "comprobar_arista_en_grafo(grafo_lista, arista1) \n",
    "comprobar_arista_en_grafo(grafo_lista, arista2)\n",
    "comprobar_arista_en_grafo(grafo_lista, arista3)\n",
    "comprobar_arista_en_grafo(grafo_lista, arista4)\n",
    "\n",
    "comprobar_arista_en_grafo(grafo_matriz, arista1)\n",
    "comprobar_arista_en_grafo(grafo_matriz, arista2)\n",
    "comprobar_arista_en_grafo(grafo_matriz, arista3)\n",
    "comprobar_arista_en_grafo(grafo_matriz, arista4)\n"
   ]
  }
 ],
 "metadata": {
  "kernelspec": {
   "display_name": "Python 3",
   "language": "python",
   "name": "python3"
  },
  "language_info": {
   "codemirror_mode": {
    "name": "ipython",
    "version": 3
   },
   "file_extension": ".py",
   "mimetype": "text/x-python",
   "name": "python",
   "nbconvert_exporter": "python",
   "pygments_lexer": "ipython3",
   "version": "3.11.1 (tags/v3.11.1:a7a450f, Dec  6 2022, 19:58:39) [MSC v.1934 64 bit (AMD64)]"
  },
  "vscode": {
   "interpreter": {
    "hash": "928f06dc26ea4ba428d73a5d7562418a5eab356ae5c16ebbbdd1a2c7e413dc04"
   }
  }
 },
 "nbformat": 4,
 "nbformat_minor": 5
}
